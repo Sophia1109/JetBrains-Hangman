{
 "cells": [
  {
   "cell_type": "markdown",
   "metadata": {},
   "source": [
    "\"Primitive hangman\" project from JetBrains"
   ]
  },
  {
   "cell_type": "code",
   "execution_count": null,
   "metadata": {},
   "outputs": [],
   "source": [
    "import random as r\n",
    "from string import ascii_lowercase\n",
    "\n",
    "print('H A N G M A N')\n",
    "\n",
    "while True:\n",
    "    replay = input('Type \"play\" to play the game, \"exit\" to quit:')\n",
    "    if replay == 'exit':\n",
    "        exit()\n",
    "    elif replay == 'play':\n",
    "        word_list = ['python', 'java', 'kotlin', 'javascript']\n",
    "        chosen = list(r.choice(word_list))\n",
    "        output = list('-' * len(chosen))\n",
    "        life = 8\n",
    "        letters = set()\n",
    "        while life > 0:\n",
    "            print()\n",
    "            print(*output, sep=\"\")\n",
    "            if '-' not in output:\n",
    "                    break\n",
    "            symbol = input('Input a letter: ')\n",
    "            if len(symbol) != 1:\n",
    "                print('You should input a single letter')\n",
    "            elif symbol not in ascii_lowercase:\n",
    "                print('It is not an ASCII lowercase letter')\n",
    "            else:\n",
    "                if symbol in letters:\n",
    "                    print('You already typed this letter')\n",
    "                else:\n",
    "                    if symbol in chosen:\n",
    "                        for i in range(len(chosen)):\n",
    "                            if chosen[i] == symbol:\n",
    "                                output[i] = symbol\n",
    "                    else:\n",
    "                        print('No such letter in the word')\n",
    "                        life -= 1\n",
    "                letters.add(symbol)\n",
    "                \n",
    "        if '-' not in output:\n",
    "            print('''You guessed the word!\n",
    "        You survived!''')\n",
    "        else:\n",
    "            print('''You are hanged!''')\n",
    "    else:\n",
    "        continue"
   ]
  }
 ],
 "metadata": {
  "kernelspec": {
   "display_name": "Python 3",
   "language": "python",
   "name": "python3"
  },
  "language_info": {
   "codemirror_mode": {
    "name": "ipython",
    "version": 3
   },
   "file_extension": ".py",
   "mimetype": "text/x-python",
   "name": "python",
   "nbconvert_exporter": "python",
   "pygments_lexer": "ipython3",
   "version": "3.7.6"
  }
 },
 "nbformat": 4,
 "nbformat_minor": 4
}
